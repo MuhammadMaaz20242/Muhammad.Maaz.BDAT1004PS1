{
 "cells": [
  {
   "cell_type": "code",
   "execution_count": 29,
   "id": "bc9b8fa8",
   "metadata": {},
   "outputs": [
    {
     "name": "stdout",
     "output_type": "stream",
     "text": [
      "Q2\n",
      "\n",
      "2a\n",
      "0 1 2 3 4 5 6 7 8 9 10 11 12 13 14 15 16 17 18 19 20 21 22 23 24 25 26 27 28 29 30 31 32 33 2b\n",
      "Available\n",
      "2c\n",
      " the longest word is  Supercalifragilisticexpialidocious,\n",
      " the length of the word is  35\n",
      "2d\n",
      "The sorted words are:\n",
      "['Bartok', 'Bellini', 'Berlioz', 'Bernstein', 'Borodin', 'Brian', 'Buxtehude']\n"
     ]
    }
   ],
   "source": [
    "print(\"Q2\\n\")\n",
    "\n",
    "print(\"2a\")\n",
    "for i in range(len('Supercalifragilisticexpialidocious')):\n",
    "    print(i, end=' ')\n",
    "    \n",
    "print(\"2b\")\n",
    "for word in ['Supercalifragilisticexpialidocious']:\n",
    "    if 'ice' in word:\n",
    "        print(\"Available\")\n",
    "    else:\n",
    "        print(\"Not Available\")\n",
    "        \n",
    "print(\"2c\")\n",
    "words =\"Supercalifragilisticexpialidocious, Honorificabilitudinitatibus, or Bababadalgharaghtakamminarronnkonn\"\n",
    "longest_word= max(words.split(), key=len)\n",
    "print(\" the longest word is \", longest_word)\n",
    "print(\" the length of the word is \", len(longest_word))\n",
    "print(\"2d\")\n",
    "string=['Berlioz','Borodin','Brian','Bartok','Bellini','Buxtehude','Bernstein']\n",
    "string.sort()\n",
    "print(\"The sorted words are:\")\n",
    "print(string)"
   ]
  },
  {
   "cell_type": "code",
   "execution_count": 15,
   "id": "a8fd964a",
   "metadata": {},
   "outputs": [
    {
     "name": "stdout",
     "output_type": "stream",
     "text": [
      "Q1\n",
      "\n",
      "<class 'int'>\n",
      "5 is an integer \n",
      "<class 'float'>\n",
      "5.0 is float \n",
      "<class 'bool'>\n",
      "5 > 1 is boolean\n",
      "<class 'str'>\n",
      "'5' is a string \n",
      "<class 'int'>\n",
      "5 * 2 is an integer\n",
      "<class 'str'>\n",
      "'5' * 2 is a string\n",
      "<class 'str'>\n",
      "'5' + '2' is a string\n",
      "<class 'float'>\n",
      "5 / 2 is a float\n",
      "<class 'int'>\n",
      "5 % 2 is an integer\n",
      "<class 'set'>\n",
      "{5, 2, 1} is a set\n",
      "<class 'bool'>\n",
      "5 == 3 is boolean\n",
      "<class 'float'>\n",
      "pi(3.1415) is float\n"
     ]
    }
   ],
   "source": [
    "print(\"Q1\\n\")\n",
    "x=5\n",
    "print(type(x)) \n",
    "print(\"5 is an integer \")\n",
    "x=5.0\n",
    "print(type(x)) \n",
    "print(\"5.0 is float \")\n",
    "x=5 >1\n",
    "print(type(x)) \n",
    "print(\"5 > 1 is boolean\")\n",
    "x='5'\n",
    "print(type(x)) \n",
    "print(\"'5' is a string \")\n",
    "x=5 * 2\n",
    "print(type(x)) \n",
    "print(\"5 * 2 is an integer\")\n",
    "x='5' * 2\n",
    "print(type(x)) \n",
    "print(\"'5' * 2 is a string\")\n",
    "x='5' + '2'\n",
    "print(type(x)) \n",
    "print(\"'5' + '2' is a string\")\n",
    "x=5/2\n",
    "print(type(x)) \n",
    "print(\"5 / 2 is a float\")\n",
    "x=5 % 2\n",
    "print(type(x)) \n",
    "print(\"5 % 2 is an integer\")\n",
    "x={5, 2, 1}\n",
    "print(type(x)) \n",
    "print(\"{5, 2, 1} is a set\")\n",
    "x=5 == 2\n",
    "print(type(x)) \n",
    "print(\"5 == 3 is boolean\")\n",
    "pi = 3.1415\n",
    "print(type(pi)) \n",
    "print(\"pi(3.1415) is float\")"
   ]
  },
  {
   "cell_type": "code",
   "execution_count": 13,
   "id": "f7365581",
   "metadata": {},
   "outputs": [
    {
     "name": "stdout",
     "output_type": "stream",
     "text": [
      "Q3 \n",
      "\n",
      "Enter the legngth of the first side: 2\n",
      "Enter the legngth of the second side: 2\n",
      "Enter the legngth of the third side: 2\n",
      "The area of triangle is 1.7320508075688772\n"
     ]
    }
   ],
   "source": [
    "print(\"Q3 \\n\")\n",
    "a= int(input(\"Enter the legngth of the first side: \"))\n",
    "b= int(input(\"Enter the legngth of the second side: \"))\n",
    "c= int(input(\"Enter the legngth of the third side: \"))\n",
    "\n",
    "p=(a+b+c)\n",
    "s= p/2\n",
    "\n",
    "area=(s*(s-a)*(s-b)*(s-c))**0.5\n",
    "\n",
    "print(\"The area of triangle is\", area)"
   ]
  },
  {
   "cell_type": "code",
   "execution_count": 9,
   "id": "3c8cc96b",
   "metadata": {},
   "outputs": [
    {
     "name": "stdout",
     "output_type": "stream",
     "text": [
      "Q10\n"
     ]
    }
   ],
   "source": [
    "print(\"Q10\")\n",
    "def frequency(itemList):\n",
    "    dict={'A':0,'B':0,'C':0,'D':0,'E':0, 'F':0,'G':0,'H':0,'J':0,'K':0,'L':0,'M':0,'N':0,'P':0\n",
    "             ,'Q':0,'R':0,'S':0,'T':0,'U':0,'V':0,'X':0,'Y':0,'Z':0}\n",
    "    new_val = []\n",
    "    \n",
    "    for m in itemList:\n",
    "        for item in dict.item():\n",
    "            if item == m.upper():\n",
    "                dict[item]=dict[item]+1\n",
    "        for item in dict.item():\n",
    "            new_val.append(dict[item])\n",
    "        return new_val\n",
    "    frequency('apple')"
   ]
  },
  {
   "cell_type": "code",
   "execution_count": 40,
   "id": "80222b83",
   "metadata": {},
   "outputs": [
    {
     "name": "stdout",
     "output_type": "stream",
     "text": [
      "Q4\n",
      "Enter the number of array: 5\n",
      "Enter the number of elsements: 25\n",
      "Enter the number of elsements: 47\n",
      "Enter the number of elsements: 43\n",
      "Enter the number of elsements: 56\n",
      "Enter the number of elsements: 32\n",
      "The even elements are:  [56, 32]\n",
      "The odd elements are:  [25, 47, 43]\n"
     ]
    }
   ],
   "source": [
    "print(\"Q4\")\n",
    "numbers=[]\n",
    "n=int(input(\"Enter the number of array: \"))\n",
    "\n",
    "for i in range(1,1+n):\n",
    "    elements=int(input(\"Enter the number of elsements: \"))\n",
    "    numbers.append(elements)\n",
    "even=[]\n",
    "odd=[]\n",
    "\n",
    "for j in numbers:\n",
    "    if j % 2 == 0:\n",
    "        even.append(j)\n",
    "    else:\n",
    "        odd.append(j)\n",
    "        \n",
    "print(\"The even elements are: \", even)\n",
    "print(\"The odd elements are: \", odd)"
   ]
  },
  {
   "cell_type": "code",
   "execution_count": null,
   "id": "05f20e9e",
   "metadata": {},
   "outputs": [],
   "source": []
  },
  {
   "cell_type": "code",
   "execution_count": 12,
   "id": "a611ee3d",
   "metadata": {},
   "outputs": [
    {
     "name": "stdout",
     "output_type": "stream",
     "text": [
      "Q7\n",
      "\n",
      "There are 15 patients of blood type A\n",
      "There are 1 patients of blood type B\n",
      "There are 13 patients of blood type AB\n",
      "There are 15 patients of blood type O\n",
      "There are 0 patients of blood type OO\n"
     ]
    }
   ],
   "source": [
    "print(\"Q7\\n\")\n",
    "infile = open('bloodtype.txt')\n",
    "content = infile.readlines()\n",
    "countA=0\n",
    "countB=0\n",
    "countAB=0\n",
    "countO=0\n",
    "countOO=0\n",
    "\n",
    "for i in content:\n",
    "    bloodcount= i.split(\" \")\n",
    "for j in bloodcount:\n",
    "    if j=='A':\n",
    "        countA=countA+1\n",
    "    elif j=='B':\n",
    "        countB=countB+1\n",
    "    elif j=='AB':\n",
    "        countAB=countAB+1\n",
    "    elif j=='O':\n",
    "        countO=countO+1\n",
    "    elif j=='OO':\n",
    "        countOO=countOO+1\n",
    "print(\"There are\",countA,\"patients of blood type A\")\n",
    "print(\"There are\",countB,\"patients of blood type B\")\n",
    "print(\"There are\",countAB,\"patients of blood type AB\")\n",
    "print(\"There are\",countO,\"patients of blood type O\")\n",
    "print(\"There are\",countOO,\"patients of blood type OO\")"
   ]
  },
  {
   "cell_type": "code",
   "execution_count": 39,
   "id": "2c837d7a",
   "metadata": {},
   "outputs": [
    {
     "name": "stdout",
     "output_type": "stream",
     "text": [
      "Q8\n",
      "\n",
      "122.96544\n"
     ]
    }
   ],
   "source": [
    "print(\"Q8\\n\")\n",
    "\n",
    "def curconv(currency_rep,amount):\n",
    "    infile = open('curriences.txt')\n",
    "    lines = infile.readlines()\n",
    "    conv=[]\n",
    "\n",
    "    for i in lines:\n",
    "        conv.append(i.split(\"\\t\"))\n",
    "    for j in conv:\n",
    "        if j[0]== currency_rep:\n",
    "            return amount*float(j[1])\n",
    "print(curconv('EUR',100))"
   ]
  },
  {
   "cell_type": "code",
   "execution_count": 19,
   "id": "fd2ed9c9",
   "metadata": {},
   "outputs": [
    {
     "name": "stdout",
     "output_type": "stream",
     "text": [
      "Q9\n",
      "\n",
      "x=6+'a'\n",
      "TypeError\n",
      "x[10]={1,2,3,4,5,6,7,8,9,10}\n",
      "x[11] is TypeError\n",
      "math.sqrt(-1.0) is a ValueError\n",
      "printing a varialbe that is not defined will throw a NameError \n",
      "calling a file that does not exixt in the same directory will throw a FileNotFoundError\n"
     ]
    }
   ],
   "source": [
    "print(\"Q9\\n\")\n",
    "print(\"x=6+'a'\")\n",
    "print(\"TypeError\")\n",
    "print(\"x[10]={1,2,3,4,5,6,7,8,9,10}\")\n",
    "print(\"x[11] is TypeError\")\n",
    "print(\"math.sqrt(-1.0) is a ValueError\")\n",
    "print(\"printing a varialbe that is not defined will throw a NameError \")\n",
    "print(\"calling a file that does not exixt in the same directory will throw a FileNotFoundError\")"
   ]
  },
  {
   "cell_type": "code",
   "execution_count": 1,
   "id": "07ce0741",
   "metadata": {},
   "outputs": [
    {
     "name": "stdout",
     "output_type": "stream",
     "text": [
      "Q6\n",
      "\n",
      "Enther the phrase: HAppy\n",
      "appyhay\n"
     ]
    }
   ],
   "source": [
    "print(\"Q6\\n\")\n",
    "def piglatin(phrase):\n",
    "    for i in range(len(phrase)):\n",
    "        if phrase[i].lower() in \"aeiou\":\n",
    "            return phrase[i: ].lower() + phrase[ :i].lower() + \"ay\"\n",
    "phrase=input(\"Enther the phrase: \")\n",
    "print(piglatin(phrase))"
   ]
  },
  {
   "cell_type": "code",
   "execution_count": 4,
   "id": "42a3326b",
   "metadata": {},
   "outputs": [
    {
     "name": "stdout",
     "output_type": "stream",
     "text": [
      "Q5\n",
      "False\n"
     ]
    }
   ],
   "source": [
    "print(\"Q5\")\n",
    "def inside(x,y,x1,x2,y1,y2) :\n",
    "    if (x > x1 and x < x2 and y > y1 and y < y2) :  \n",
    "          return True\n",
    "    else :\n",
    "          return False\n",
    "(x,y) = (1,1)\n",
    "(x1,x2)=(0,0)\n",
    "(y1,y2)=(2,3)\n",
    "print(inside(x,y,x1,x2,y1,y2))"
   ]
  },
  {
   "cell_type": "code",
   "execution_count": 24,
   "id": "3e2ac28d",
   "metadata": {},
   "outputs": [
    {
     "name": "stdout",
     "output_type": "stream",
     "text": [
      "Q8\n"
     ]
    },
    {
     "data": {
      "text/plain": [
       "[1, 0, 0, 0, 1, 0, 0, 0, 0, 0, 0, 1, 0, 0, 0, 2, 0, 0, 0, 0, 0, 0, 0, 0, 0, 0]"
      ]
     },
     "execution_count": 24,
     "metadata": {},
     "output_type": "execute_result"
    }
   ],
   "source": [
    "print(\"Q8\")\n",
    "def frequencies(alphabet):\n",
    "    dict={'A':0,'B':0,'C':0,'D':0,'E':0,'F':0,'G':0,'H':0,'I':0,'J':0,'K':0,'L':0,\n",
    "          'M':0,'N':0,'O':0,'P':0,'Q':0,'R':0,'S':0,'T':0,'U':0,'V':0,'W':0,'X':0,'Y':0,'Z':0}\n",
    "    all_list=[]\n",
    "    for m in alphabet:\n",
    "        for tot,val in dict.items():\n",
    "             if tot==m.upper():\n",
    "                    dict[tot]= dict[tot] + 1\n",
    "    for tot,val in dict.items():\n",
    "            all_list.append(dict[tot])\n",
    "    return all_list\n",
    "frequencies('apple')\n",
    "                \n",
    "    "
   ]
  },
  {
   "cell_type": "code",
   "execution_count": null,
   "id": "63741d2c",
   "metadata": {},
   "outputs": [],
   "source": []
  },
  {
   "cell_type": "code",
   "execution_count": null,
   "id": "473f3c62",
   "metadata": {},
   "outputs": [],
   "source": []
  }
 ],
 "metadata": {
  "kernelspec": {
   "display_name": "Python 3 (ipykernel)",
   "language": "python",
   "name": "python3"
  },
  "language_info": {
   "codemirror_mode": {
    "name": "ipython",
    "version": 3
   },
   "file_extension": ".py",
   "mimetype": "text/x-python",
   "name": "python",
   "nbconvert_exporter": "python",
   "pygments_lexer": "ipython3",
   "version": "3.9.7"
  }
 },
 "nbformat": 4,
 "nbformat_minor": 5
}
